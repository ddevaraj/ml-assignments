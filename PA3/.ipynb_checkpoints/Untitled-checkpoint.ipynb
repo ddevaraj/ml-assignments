{
 "cells": [
  {
   "cell_type": "code",
   "execution_count": 8,
   "metadata": {},
   "outputs": [
    {
     "name": "stdout",
     "output_type": "stream",
     "text": [
      "0\n"
     ]
    }
   ],
   "source": [
    "def lenOfLong(arr,k):\n",
    "    hmap = {}\n",
    "    sum_ = 0\n",
    "    maxLen = 0\n",
    "    for i in range(len(arr)):\n",
    "        sum_ += arr[i]\n",
    "        if sum_ == k:\n",
    "            maxLen = max(maxLen,i+1)\n",
    "        if sum_-k in hmap.keys():\n",
    "#             if maxLen < (i-hmap[sum_-k]):\n",
    "#                 maxLen = i-hmap[sum_-k]\n",
    "            maxLen = max(maxLen,i+1)\n",
    "        if sum_ not in hmap.keys():\n",
    "            hmap[sum_] = i\n",
    "            \n",
    "#         if sum_-k in hmap.keys():\n",
    "# #             if maxLen < (i-hmap[sum_-k]):\n",
    "# #                 maxLen = i-hmap[sum_-k]\n",
    "#             maxLen = max(maxLen,i+1)\n",
    "        return maxLen\n",
    "\n",
    "arr = [10,5,2,7,1,9]\n",
    "print(lenOfLong(arr,15))\n",
    "        "
   ]
  },
  {
   "cell_type": "code",
   "execution_count": null,
   "metadata": {},
   "outputs": [],
   "source": []
  }
 ],
 "metadata": {
  "kernelspec": {
   "display_name": "Python 3",
   "language": "python",
   "name": "python3"
  },
  "language_info": {
   "codemirror_mode": {
    "name": "ipython",
    "version": 3
   },
   "file_extension": ".py",
   "mimetype": "text/x-python",
   "name": "python",
   "nbconvert_exporter": "python",
   "pygments_lexer": "ipython3",
   "version": "3.6.4"
  }
 },
 "nbformat": 4,
 "nbformat_minor": 2
}
