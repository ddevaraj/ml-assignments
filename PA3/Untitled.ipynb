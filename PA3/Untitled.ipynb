{
 "cells": [
  {
   "cell_type": "code",
   "execution_count": 17,
   "metadata": {},
   "outputs": [
    {
     "name": "stdout",
     "output_type": "stream",
     "text": [
      "{-5: 0}\n",
      "{-5: 0, 3: 1}\n",
      "{-5: 0, 3: 1, -11: 2}\n",
      "{-5: 0, 3: 1, -11: 2, -9: 3}\n",
      "{-5: 0, 3: 1, -11: 2, -9: 3}\n",
      "{-5: 0, 3: 1, -11: 2, -9: 3, 7: 5}\n",
      "5\n"
     ]
    }
   ],
   "source": [
    "def lenOfLong(arr,k):\n",
    "    hmap = {}\n",
    "    sum_ = 0\n",
    "    maxLen = 0\n",
    "    for i in range(len(arr)):\n",
    "        sum_ += arr[i]\n",
    "        if sum_ == k:\n",
    "            maxLen = max(maxLen,i+1)\n",
    "        if sum_-k in hmap.keys():\n",
    "            if maxLen < (i-hmap[sum_-k]):\n",
    "                maxLen = i-hmap[sum_-k]\n",
    "#             maxLen = max(maxLen,i+1)\n",
    "        if sum_ not in hmap.keys():\n",
    "            hmap[sum_] = i\n",
    "        \n",
    "        print(hmap)\n",
    "    return maxLen\n",
    "\n",
    "arr = [-5,8,-14,2,4,12]\n",
    "print(lenOfLong(arr,-5))\n",
    "        "
   ]
  },
  {
   "cell_type": "code",
   "execution_count": 25,
   "metadata": {},
   "outputs": [
    {
     "name": "stdout",
     "output_type": "stream",
     "text": [
      "-1\n"
     ]
    }
   ],
   "source": [
    "def find_min(arr):\n",
    "    mini =0\n",
    "    mini = helper(arr,0,len(arr)-1)\n",
    "    return mini\n",
    "\n",
    "\n",
    "def helper(arr, low, high): \n",
    "    # This condition is needed to handle the case when array is not \n",
    "    # rotated at all \n",
    "    if high < low: \n",
    "        return arr[0] \n",
    "  \n",
    "    # If there is only one element left \n",
    "    if high == low: \n",
    "        return arr[low] \n",
    "  \n",
    "    # Find mid \n",
    "    mid = int((low + high)/2) \n",
    "  \n",
    "    # Check if element (mid+1) is minimum element. Consider \n",
    "    # the cases like [3, 4, 5, 1, 2] \n",
    "    if mid < high and arr[mid+1] < arr[mid]: \n",
    "        return arr[mid+1] \n",
    "  \n",
    "    # Check if mid itself is minimum element \n",
    "    if mid > low and arr[mid] < arr[mid - 1]: \n",
    "        return arr[mid] \n",
    "  \n",
    "    # Decide whether we need to go to left half or right half \n",
    "    if arr[high] > arr[mid]: \n",
    "        return findMin(arr, low, mid-1) \n",
    "    return findMin(arr, mid+1, high) \n",
    "\n",
    "print(find_min([5,4,-1]))"
   ]
  },
  {
   "cell_type": "code",
   "execution_count": null,
   "metadata": {},
   "outputs": [],
   "source": []
  }
 ],
 "metadata": {
  "kernelspec": {
   "display_name": "Python 3",
   "language": "python",
   "name": "python3"
  },
  "language_info": {
   "codemirror_mode": {
    "name": "ipython",
    "version": 3
   },
   "file_extension": ".py",
   "mimetype": "text/x-python",
   "name": "python",
   "nbconvert_exporter": "python",
   "pygments_lexer": "ipython3",
   "version": "3.6.4"
  }
 },
 "nbformat": 4,
 "nbformat_minor": 2
}
